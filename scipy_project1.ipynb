{
 "cells": [
  {
   "cell_type": "code",
   "execution_count": 1,
   "metadata": {},
   "outputs": [
    {
     "data": {
      "text/plain": [
       "array([24.,  6.])"
      ]
     },
     "execution_count": 1,
     "metadata": {},
     "output_type": "execute_result"
    }
   ],
   "source": [
    "# Import required libraries\n",
    "import numpy as np\n",
    "from scipy import linalg\n",
    "\n",
    "# Test has 30 questions and worth 150 marks\n",
    "# True and False questions worth 4 marks each\n",
    "# Multiple choice questions worth 9 marks each \n",
    "\n",
    "# let x is the number of true/false questions\n",
    "# let y is the number of multiple choice questions\n",
    "\n",
    "# (x + y = 30)\n",
    "# (4x + 9y = 150)\n",
    "testQuestionVariable = np.array([[1,1], [4,9]])\n",
    "testQuestionValue = np.array([30, 150])\n",
    "\n",
    "# Use linalg function of the SciPy\n",
    "# Use solve method to solve the linear equation and find value for x and y\n",
    "linalg.solve(testQuestionVariable,testQuestionValue)"
   ]
  }
 ],
 "metadata": {
  "kernelspec": {
   "display_name": "Python 3",
   "language": "python",
   "name": "python3"
  },
  "language_info": {
   "codemirror_mode": {
    "name": "ipython",
    "version": 3
   },
   "file_extension": ".py",
   "mimetype": "text/x-python",
   "name": "python",
   "nbconvert_exporter": "python",
   "pygments_lexer": "ipython3",
   "version": "3.11.2"
  },
  "orig_nbformat": 4
 },
 "nbformat": 4,
 "nbformat_minor": 2
}
